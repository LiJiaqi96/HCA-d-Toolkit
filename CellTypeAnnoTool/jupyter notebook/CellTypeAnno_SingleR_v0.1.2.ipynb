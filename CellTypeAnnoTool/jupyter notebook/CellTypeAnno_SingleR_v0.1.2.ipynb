{
 "cells": [
  {
   "cell_type": "markdown",
   "metadata": {},
   "source": [
    "**This note book is the tutorial for cell type annotation** \n",
    "\n",
    "Here we use package \"SingleR\" under R 4.0 environment.\n",
    "\n",
    "The package \"SingleR\" and \"scater\" used in this project are downloaded from **Bioconductor**."
   ]
  },
  {
   "cell_type": "markdown",
   "metadata": {},
   "source": [
    "**Install R 4.0 and related packages**\n",
    "\n",
    "\\# Install R 4.0, if you have installed R with other version, please create a new conda environment first\n",
    "\n",
    "    conda install -c conda-forge r-base=4.0.0\n",
    "\n",
    "\\# Enter R, then install packages:\n",
    "\n",
    "    if (!requireNamespace(\"BiocManager\", quietly = TRUE))\n",
    "\n",
    "        install.packages(\"BiocManager\")\n",
    "\n",
    "    BiocManager::install(\"SingleCellExperiment\")\n",
    "\n",
    "    BiocManager::install(\"scater\")\n",
    "\n",
    "    BiocManager::install(\"SingleR\")\n"
   ]
  },
  {
   "cell_type": "markdown",
   "metadata": {},
   "source": [
    "**Load packages**"
   ]
  },
  {
   "cell_type": "code",
   "execution_count": 2,
   "metadata": {},
   "outputs": [],
   "source": [
    "library(SingleR)\n",
    "library(SingleCellExperiment)\n",
    "library(scater)"
   ]
  },
  {
   "attachments": {},
   "cell_type": "markdown",
   "metadata": {},
   "source": [
    "**(Optional) save built-in reference dataset**\n",
    "\n",
    "Here we use Human Primary Cell Atalas (HPCA) (Mabbott NA et al., 2013) as reference dataset. \n",
    "\n",
    "Please run the code in this cell in the first time to save this dataset. For future use, just load the saved object!\n",
    "\n",
    "Remember to change the \"save_ref_dir\" to your directory."
   ]
  },
  {
   "cell_type": "code",
   "execution_count": 12,
   "metadata": {},
   "outputs": [],
   "source": [
    "# save_ref_dir <- \"/data1/ljq/rdata/cell_type/\"\n",
    "# hpca.se <- HumanPrimaryCellAtlasData()\n",
    "# hpca.se\n",
    "# saveRDS(hpca.se, file=paste0(save_ref_dir,\"HPCA.rds\"))"
   ]
  },
  {
   "cell_type": "markdown",
   "metadata": {},
   "source": [
    "**Load reference dataset**\n",
    "\n",
    "Remember to change the \"ref_dir\" to your directory."
   ]
  },
  {
   "cell_type": "code",
   "execution_count": 3,
   "metadata": {},
   "outputs": [
    {
     "data": {
      "text/plain": [
       "class: SummarizedExperiment \n",
       "dim: 19363 713 \n",
       "metadata(0):\n",
       "assays(1): logcounts\n",
       "rownames(19363): A1BG A1BG-AS1 ... ZZEF1 ZZZ3\n",
       "rowData names(0):\n",
       "colnames(713): GSM112490 GSM112491 ... GSM92233 GSM92234\n",
       "colData names(2): label.main label.fine"
      ]
     },
     "metadata": {},
     "output_type": "display_data"
    }
   ],
   "source": [
    "ref_dir <- \"/data1/ljq/rdata/cell_type/HPCA.rds\"\n",
    "hpca.se <- readRDS(ref_dir)\n",
    "hpca.se"
   ]
  },
  {
   "cell_type": "markdown",
   "metadata": {},
   "source": [
    "**Load query dataset**\n",
    "\n",
    "In our HCA-d database, datasets are stored in .tsv format. Make sure the rows are genes and columns are cells.\n",
    "\n",
    "Remember to change the \"query_dir\" to your directory."
   ]
  },
  {
   "cell_type": "code",
   "execution_count": 4,
   "metadata": {},
   "outputs": [],
   "source": [
    "query_dir <- \"/stor/public/hcad/heart_heart_HCLAdultHeart1/heart_heart_HCLAdultHeart1_expression.tsv.gz\"\n",
    "query_data <- read.table(query_dir, header=TRUE, row.names=1)"
   ]
  },
  {
   "cell_type": "markdown",
   "metadata": {},
   "source": [
    "**Data normalization**\n",
    "\n",
    "Here we used the \"logNormCounts\" function to implement data normalization (package \"scater\").\n",
    "\n",
    "The operation is based on the SingleCellExperiment object.\n"
   ]
  },
  {
   "cell_type": "code",
   "execution_count": 5,
   "metadata": {},
   "outputs": [],
   "source": [
    "query_obj <- SingleCellExperiment(assays=list(counts=query_data))\n",
    "query_obj <- logNormCounts(query_obj)"
   ]
  },
  {
   "cell_type": "markdown",
   "metadata": {},
   "source": [
    "**Annotate cell type**\n",
    "\n",
    "Run SingleR, using HPCA as reference and query_obj as test. We generate both the \"main\" cell types and \"fine\" cell subtypes."
   ]
  },
  {
   "cell_type": "code",
   "execution_count": 6,
   "metadata": {
    "scrolled": true
   },
   "outputs": [
    {
     "data": {
      "text/plain": [
       "\n",
       "             B_cell        Chondrocytes                 CMP                  DC \n",
       "                  4                  17                   3                 160 \n",
       "  Endothelial_cells         Fibroblasts         Hepatocytes           HSC_CD34+ \n",
       "                124                  33                   1                  32 \n",
       "      Keratinocytes          Macrophage            Monocyte             Neurons \n",
       "                  1                 355                 209                   3 \n",
       "        Neutrophils             NK_cell         Osteoblasts    Pre-B_cell_CD34- \n",
       "                  5                  47                   1                  11 \n",
       "   Pro-B_cell_CD34+ Smooth_muscle_cells             T_cells   Tissue_stem_cells \n",
       "                  1                  65                  21                 215 "
      ]
     },
     "metadata": {},
     "output_type": "display_data"
    },
    {
     "data": {
      "text/plain": [
       "\n",
       "         Astrocyte:Embryonic_stem_cell-derived \n",
       "                                             1 \n",
       "                                  B_cell:Naive \n",
       "                                             1 \n",
       "                            B_cell:Plasma_cell \n",
       "                                             3 \n",
       "                      Chondrocytes:MSC-derived \n",
       "                                             5 \n",
       "                                           CMP \n",
       "                                             2 \n",
       "                           DC:monocyte-derived \n",
       "                                             1 \n",
       "DC:monocyte-derived:A._fumigatus_germ_tubes_6h \n",
       "                                            73 \n",
       "           DC:monocyte-derived:AEC-conditioned \n",
       "                                             6 \n",
       "           DC:monocyte-derived:anti-DC-SIGN_2h \n",
       "                                            48 \n",
       "           DC:monocyte-derived:antiCD40/VAF347 \n",
       "                                            40 \n",
       "                DC:monocyte-derived:Galectin-1 \n",
       "                                             1 \n",
       "                  DC:monocyte-derived:immature \n",
       "                                             5 \n",
       "                       DC:monocyte-derived:LPS \n",
       "                                             4 \n",
       "                    DC:monocyte-derived:mature \n",
       "                                            12 \n",
       "                  DC:monocyte-derived:Poly(IC) \n",
       "                                             2 \n",
       "         DC:monocyte-derived:Schuler_treatment \n",
       "                                             2 \n",
       "                Endothelial_cells:blood_vessel \n",
       "                                             9 \n",
       "  Endothelial_cells:HUVEC:Borrelia_burgdorferi \n",
       "                                            56 \n",
       "                  Endothelial_cells:HUVEC:IFNg \n",
       "                                            72 \n",
       "                   Endothelial_cells:lymphatic \n",
       "                                             9 \n",
       "              Endothelial_cells:lymphatic:KSHV \n",
       "                                             3 \n",
       "          Endothelial_cells:lymphatic:TNFa_48h \n",
       "                                            40 \n",
       "                            Fibroblasts:breast \n",
       "                                            17 \n",
       "                          Fibroblasts:foreskin \n",
       "                                             3 \n",
       "                                   Hepatocytes \n",
       "                                             1 \n",
       "                                     HSC_CD34+ \n",
       "                                            21 \n",
       "                  iPS_cells:adipose_stem_cells \n",
       "                                            12 \n",
       "                 iPS_cells:foreskin_fibrobasts \n",
       "                                             1 \n",
       "                           Macrophage:Alveolar \n",
       "                                             1 \n",
       "        Macrophage:Alveolar:B._anthacis_spores \n",
       "                                             5 \n",
       "                   Macrophage:monocyte-derived \n",
       "                                            25 \n",
       "              Macrophage:monocyte-derived:IFNa \n",
       "                                            12 \n",
       "        Macrophage:monocyte-derived:IL-4/cntrl \n",
       "                                             1 \n",
       "    Macrophage:monocyte-derived:IL-4/Dex/cntrl \n",
       "                                           146 \n",
       "     Macrophage:monocyte-derived:IL-4/Dex/TGFb \n",
       "                                            50 \n",
       "             Macrophage:monocyte-derived:M-CSF \n",
       "                                            67 \n",
       "        Macrophage:monocyte-derived:M-CSF/IFNg \n",
       "                                             4 \n",
       "Macrophage:monocyte-derived:M-CSF/IFNg/Pam3Cys \n",
       "                                            17 \n",
       "     Macrophage:monocyte-derived:M-CSF/Pam3Cys \n",
       "                                            13 \n",
       "         Macrophage:monocyte-derived:S._aureus \n",
       "                                            17 \n",
       "                                      Monocyte \n",
       "                                             2 \n",
       "                         Monocyte:anti-FcgRIIB \n",
       "                                             7 \n",
       "                                Monocyte:CD14+ \n",
       "                                             7 \n",
       "                                Monocyte:CD16- \n",
       "                                            29 \n",
       "                                Monocyte:CD16+ \n",
       "                                            48 \n",
       "                                Monocyte:CXCL4 \n",
       "                                             1 \n",
       "               Monocyte:F._tularensis_novicida \n",
       "                                             7 \n",
       "                       Monocyte:leukotriene_D4 \n",
       "                                            30 \n",
       "                                 Monocyte:MCSF \n",
       "                                             1 \n",
       "             Monocyte:S._typhimurium_flagellin \n",
       "                                            30 \n",
       "                          Neurons:Schwann_cell \n",
       "                                             5 \n",
       "           Neutrophil:commensal_E._coli_MG1655 \n",
       "                                            12 \n",
       "                        Neutrophil:GM-CSF_IFNg \n",
       "                                             1 \n",
       "                                       NK_cell \n",
       "                                            29 \n",
       "                          NK_cell:CD56hiCD62L+ \n",
       "                                             1 \n",
       "                                   NK_cell:IL2 \n",
       "                                             3 \n",
       "                                   Osteoblasts \n",
       "                                             3 \n",
       "                              Pre-B_cell_CD34- \n",
       "                                             3 \n",
       "                 Smooth_muscle_cells:bronchial \n",
       "                                            12 \n",
       "           Smooth_muscle_cells:bronchial:vit_D \n",
       "                                             2 \n",
       "                  Smooth_muscle_cells:vascular \n",
       "                                             4 \n",
       "            Smooth_muscle_cells:vascular:IL-17 \n",
       "                                             5 \n",
       "                    T_cell:CD4+_central_memory \n",
       "                                             1 \n",
       "                                   T_cell:CD8+ \n",
       "                                             6 \n",
       "                    T_cell:CD8+_Central_memory \n",
       "                                             5 \n",
       "                T_cell:CD8+_effector_memory_RA \n",
       "                                             9 \n",
       "                             T_cell:CD8+_naive \n",
       "                                             6 \n",
       "                            T_cell:gamma-delta \n",
       "                                            10 \n",
       "                 Tissue_stem_cells:BM_MSC:BMP2 \n",
       "                                            63 \n",
       "           Tissue_stem_cells:BM_MSC:osteogenic \n",
       "                                             1 \n",
       "                Tissue_stem_cells:BM_MSC:TGFb3 \n",
       "                                           110 \n",
       "                   Tissue_stem_cells:iliac_MSC \n",
       "                                            47 "
      ]
     },
     "metadata": {},
     "output_type": "display_data"
    }
   ],
   "source": [
    "query_pred_main <- SingleR(test = query_obj, ref = hpca.se, labels = hpca.se$label.main)\n",
    "query_pred_fine <- SingleR(test = query_obj, ref = hpca.se, labels = hpca.se$label.fine)\n",
    "table(query_pred_main$labels)\n",
    "table(query_pred_fine$labels)\n"
   ]
  },
  {
   "cell_type": "code",
   "execution_count": 7,
   "metadata": {},
   "outputs": [],
   "source": [
    "query_result <- data.frame(main_type=query_pred_main$labels, sub_type=query_pred_fine$labels)\n",
    "rownames(query_result) <- colnames(query_data)"
   ]
  },
  {
   "cell_type": "markdown",
   "metadata": {},
   "source": [
    "**Save annotated results**\n",
    "\n",
    "Remember to change the \"save_anno_dir\" to your directory."
   ]
  },
  {
   "cell_type": "code",
   "execution_count": 8,
   "metadata": {},
   "outputs": [],
   "source": [
    "save_anno_dir <- \"/data1/ljq/rdata/cell_type/\"\n",
    "write.csv(query_result, paste0(save_anno_dir, \"anno.csv\"))"
   ]
  },
  {
   "cell_type": "code",
   "execution_count": null,
   "metadata": {},
   "outputs": [],
   "source": []
  },
  {
   "cell_type": "code",
   "execution_count": null,
   "metadata": {},
   "outputs": [],
   "source": []
  }
 ],
 "metadata": {
  "kernelspec": {
   "display_name": "R",
   "language": "R",
   "name": "ir"
  },
  "language_info": {
   "codemirror_mode": "r",
   "file_extension": ".r",
   "mimetype": "text/x-r-source",
   "name": "R",
   "pygments_lexer": "r",
   "version": "3.6.0"
  }
 },
 "nbformat": 4,
 "nbformat_minor": 2
}
