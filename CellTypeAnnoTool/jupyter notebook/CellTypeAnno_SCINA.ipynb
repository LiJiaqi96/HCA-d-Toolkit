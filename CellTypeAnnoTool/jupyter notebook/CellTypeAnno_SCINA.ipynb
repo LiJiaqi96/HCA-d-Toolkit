{
 "cells": [
  {
   "cell_type": "markdown",
   "metadata": {},
   "source": [
    "# install packages"
   ]
  },
  {
   "cell_type": "code",
   "execution_count": 1,
   "metadata": {
    "scrolled": false
   },
   "outputs": [
    {
     "name": "stderr",
     "output_type": "stream",
     "text": [
      "Updating HTML index of packages in '.Library'\n",
      "\n",
      "Making 'packages.html' ...\n",
      " done\n",
      "\n",
      "Bioconductor version 3.10 (BiocManager 1.30.10), R 3.6.0 (2019-04-26)\n",
      "\n",
      "Installing package(s) 'preprocessCore'\n",
      "\n",
      "Updating HTML index of packages in '.Library'\n",
      "\n",
      "Making 'packages.html' ...\n",
      " done\n",
      "\n",
      "Old packages: 'bit', 'dplyr', 'DT'\n",
      "\n"
     ]
    }
   ],
   "source": [
    "install.packages('SCINA')\n",
    "\n",
    "\n",
    "#Install preprocessCore if required\n",
    "if (!requireNamespace(\"BiocManager\", quietly = TRUE))\n",
    "    install.packages(\"BiocManager\")\n",
    "\n",
    "BiocManager::install(\"preprocessCore\")"
   ]
  },
  {
   "cell_type": "markdown",
   "metadata": {},
   "source": [
    "# load library"
   ]
  },
  {
   "cell_type": "code",
   "execution_count": 2,
   "metadata": {},
   "outputs": [
    {
     "name": "stderr",
     "output_type": "stream",
     "text": [
      "Loading required package: MASS\n",
      "\n",
      "Loading required package: gplots\n",
      "\n",
      "\n",
      "Attaching package: ‘gplots’\n",
      "\n",
      "\n",
      "The following object is masked from ‘package:stats’:\n",
      "\n",
      "    lowess\n",
      "\n",
      "\n"
     ]
    }
   ],
   "source": [
    "library('SCINA')\n",
    "library('preprocessCore')"
   ]
  },
  {
   "cell_type": "markdown",
   "metadata": {},
   "source": [
    "# load signatures of cell types (prior knowlege)"
   ]
  },
  {
   "cell_type": "code",
   "execution_count": 3,
   "metadata": {},
   "outputs": [],
   "source": [
    "# prior knowledge: signatures (A list contains multiple signature vectors)\n",
    "# using eTME signatures\n",
    "load(system.file('extdata','example_signatures.RData', package = \"SCINA\"))\n",
    "\n",
    "# using own signatures files:\n",
    "# signatures=preprocess.signatures('your/path/to/example_signatures.csv')"
   ]
  },
  {
   "cell_type": "code",
   "execution_count": 4,
   "metadata": {},
   "outputs": [
    {
     "data": {
      "text/html": [
       "<dl>\n",
       "\t<dt>$cd14_monocytes</dt>\n",
       "\t\t<dd><style>\n",
       ".list-inline {list-style: none; margin:0; padding: 0}\n",
       ".list-inline>li {display: inline-block}\n",
       ".list-inline>li:not(:last-child)::after {content: \"\\00b7\"; padding: 0 .5ex}\n",
       "</style>\n",
       "<ol class=list-inline><li>'AIF1'</li><li>'CST3'</li><li>'FCN1'</li><li>'FTH1'</li><li>'FTL'</li><li>'GPX1'</li><li>'LST1'</li><li>'LYZ'</li><li>'S100A8'</li><li>'S100A9'</li><li>'TYMP'</li></ol>\n",
       "</dd>\n",
       "\t<dt>$b_cells</dt>\n",
       "\t\t<dd><style>\n",
       ".list-inline {list-style: none; margin:0; padding: 0}\n",
       ".list-inline>li {display: inline-block}\n",
       ".list-inline>li:not(:last-child)::after {content: \"\\00b7\"; padding: 0 .5ex}\n",
       "</style>\n",
       "<ol class=list-inline><li>'CD37'</li><li>'CD74'</li><li>'CD79A'</li><li>'CD79B'</li><li>'HLA-DPA1'</li><li>'HLA-DRA'</li></ol>\n",
       "</dd>\n",
       "\t<dt>$cd56_nk</dt>\n",
       "\t\t<dd><style>\n",
       ".list-inline {list-style: none; margin:0; padding: 0}\n",
       ".list-inline>li {display: inline-block}\n",
       ".list-inline>li:not(:last-child)::after {content: \"\\00b7\"; padding: 0 .5ex}\n",
       "</style>\n",
       "<ol class=list-inline><li>'CLIC3'</li><li>'CST7'</li><li>'FGFBP2'</li><li>'GNLY'</li><li>'GZMA'</li><li>'GZMB'</li><li>'HOPX'</li><li>'IFITM2'</li><li>'KLRB1'</li><li>'NKG7'</li><li>'PRF1'</li></ol>\n",
       "</dd>\n",
       "</dl>\n"
      ],
      "text/latex": [
       "\\begin{description}\n",
       "\\item[\\$cd14\\_monocytes] \\begin{enumerate*}\n",
       "\\item 'AIF1'\n",
       "\\item 'CST3'\n",
       "\\item 'FCN1'\n",
       "\\item 'FTH1'\n",
       "\\item 'FTL'\n",
       "\\item 'GPX1'\n",
       "\\item 'LST1'\n",
       "\\item 'LYZ'\n",
       "\\item 'S100A8'\n",
       "\\item 'S100A9'\n",
       "\\item 'TYMP'\n",
       "\\end{enumerate*}\n",
       "\n",
       "\\item[\\$b\\_cells] \\begin{enumerate*}\n",
       "\\item 'CD37'\n",
       "\\item 'CD74'\n",
       "\\item 'CD79A'\n",
       "\\item 'CD79B'\n",
       "\\item 'HLA-DPA1'\n",
       "\\item 'HLA-DRA'\n",
       "\\end{enumerate*}\n",
       "\n",
       "\\item[\\$cd56\\_nk] \\begin{enumerate*}\n",
       "\\item 'CLIC3'\n",
       "\\item 'CST7'\n",
       "\\item 'FGFBP2'\n",
       "\\item 'GNLY'\n",
       "\\item 'GZMA'\n",
       "\\item 'GZMB'\n",
       "\\item 'HOPX'\n",
       "\\item 'IFITM2'\n",
       "\\item 'KLRB1'\n",
       "\\item 'NKG7'\n",
       "\\item 'PRF1'\n",
       "\\end{enumerate*}\n",
       "\n",
       "\\end{description}\n"
      ],
      "text/markdown": [
       "$cd14_monocytes\n",
       ":   1. 'AIF1'\n",
       "2. 'CST3'\n",
       "3. 'FCN1'\n",
       "4. 'FTH1'\n",
       "5. 'FTL'\n",
       "6. 'GPX1'\n",
       "7. 'LST1'\n",
       "8. 'LYZ'\n",
       "9. 'S100A8'\n",
       "10. 'S100A9'\n",
       "11. 'TYMP'\n",
       "\n",
       "\n",
       "\n",
       "$b_cells\n",
       ":   1. 'CD37'\n",
       "2. 'CD74'\n",
       "3. 'CD79A'\n",
       "4. 'CD79B'\n",
       "5. 'HLA-DPA1'\n",
       "6. 'HLA-DRA'\n",
       "\n",
       "\n",
       "\n",
       "$cd56_nk\n",
       ":   1. 'CLIC3'\n",
       "2. 'CST7'\n",
       "3. 'FGFBP2'\n",
       "4. 'GNLY'\n",
       "5. 'GZMA'\n",
       "6. 'GZMB'\n",
       "7. 'HOPX'\n",
       "8. 'IFITM2'\n",
       "9. 'KLRB1'\n",
       "10. 'NKG7'\n",
       "11. 'PRF1'\n",
       "\n",
       "\n",
       "\n",
       "\n",
       "\n"
      ],
      "text/plain": [
       "$cd14_monocytes\n",
       " [1] \"AIF1\"   \"CST3\"   \"FCN1\"   \"FTH1\"   \"FTL\"    \"GPX1\"   \"LST1\"   \"LYZ\"   \n",
       " [9] \"S100A8\" \"S100A9\" \"TYMP\"  \n",
       "\n",
       "$b_cells\n",
       "[1] \"CD37\"     \"CD74\"     \"CD79A\"    \"CD79B\"    \"HLA-DPA1\" \"HLA-DRA\" \n",
       "\n",
       "$cd56_nk\n",
       " [1] \"CLIC3\"  \"CST7\"   \"FGFBP2\" \"GNLY\"   \"GZMA\"   \"GZMB\"   \"HOPX\"   \"IFITM2\"\n",
       " [9] \"KLRB1\"  \"NKG7\"   \"PRF1\"  \n"
      ]
     },
     "metadata": {},
     "output_type": "display_data"
    }
   ],
   "source": [
    "head(signatures)"
   ]
  },
  {
   "cell_type": "markdown",
   "metadata": {},
   "source": [
    "# load expression data and normalization"
   ]
  },
  {
   "cell_type": "code",
   "execution_count": 5,
   "metadata": {},
   "outputs": [],
   "source": [
    "# input data: expression matrix \n",
    "# From .rds\n",
    "exp <- readRDS(\"/stor/public/hcad/Heart_Heart_Wang2020/Heart_Heart_Wang2020.seuratobj.rds\")\n",
    "exp <- exp@assays$RNA@scale.data\n",
    "\n",
    "\n",
    "# from .csv\n",
    "# exp <- read.csv(\"csv\",row.names=1,stringsAsFactors = F)\n",
    "\n",
    "# normalize counts \n",
    "# exp = log(exp+1)\n",
    "\n",
    "# Using a normalization based upon quantiles, this function normalizes a matrix of probe level intensities.\n",
    "# exp[] = normalize.quantiles(exp)"
   ]
  },
  {
   "cell_type": "code",
   "execution_count": 6,
   "metadata": {},
   "outputs": [
    {
     "data": {
      "text/html": [
       "<table>\n",
       "<caption>A matrix: 6 × 7231 of type dbl</caption>\n",
       "<thead>\n",
       "\t<tr><th></th><th scope=col>SC_92563_0_17</th><th scope=col>SC_92563_0_23</th><th scope=col>SC_92563_0_12</th><th scope=col>SC_92563_0_18</th><th scope=col>SC_92563_0_19</th><th scope=col>SC_92563_0_20</th><th scope=col>SC_92563_0_14</th><th scope=col>SC_92563_1_45</th><th scope=col>SC_92563_1_46</th><th scope=col>SC_92563_2_64</th><th scope=col>⋯</th><th scope=col>SC_97502_56_57</th><th scope=col>SC_97502_56_33</th><th scope=col>SC_97502_70_62</th><th scope=col>SC_97502_71_55</th><th scope=col>SC_97502_24_52</th><th scope=col>SC_97502_34_40</th><th scope=col>SC_97502_32_60</th><th scope=col>SC_97502_66_39</th><th scope=col>SC_97502_30_13</th><th scope=col>SC_97502_30_69</th></tr>\n",
       "</thead>\n",
       "<tbody>\n",
       "\t<tr><th scope=row>FGR</th><td>-0.11106015</td><td>-0.11106015</td><td>-0.11106015</td><td>-0.11106015</td><td>-0.11106015</td><td>-0.11106015</td><td>-0.11106015</td><td>-0.11106015</td><td>-0.11106015</td><td>-0.11106015</td><td>⋯</td><td>-0.11106015</td><td>-0.11106015</td><td>-0.11106015</td><td>-0.11106015</td><td>-0.11106015</td><td>-0.11106015</td><td>-0.11106015</td><td>-0.11106015</td><td>-0.11106015</td><td>-0.11106015</td></tr>\n",
       "\t<tr><th scope=row>CFH</th><td> 4.96971188</td><td>-0.28446614</td><td> 0.87201257</td><td> 7.90064217</td><td>-0.28446614</td><td>-0.28446614</td><td>-0.28446614</td><td>-0.28446614</td><td>-0.28446614</td><td> 1.05326192</td><td>⋯</td><td>-0.28446614</td><td>-0.28446614</td><td>-0.28446614</td><td>-0.28446614</td><td>-0.28446614</td><td>-0.28446614</td><td>-0.28446614</td><td>-0.28446614</td><td>-0.28446614</td><td>-0.28446614</td></tr>\n",
       "\t<tr><th scope=row>SNX11</th><td>-0.12088841</td><td>-0.12088841</td><td>-0.12088841</td><td>-0.12088841</td><td>-0.12088841</td><td>-0.12088841</td><td>-0.12088841</td><td>-0.12088841</td><td>-0.12088841</td><td>-0.12088841</td><td>⋯</td><td>-0.12088841</td><td>-0.12088841</td><td>-0.12088841</td><td>-0.12088841</td><td>-0.12088841</td><td> 2.04038057</td><td>-0.12088841</td><td>-0.12088841</td><td>-0.12088841</td><td>-0.12088841</td></tr>\n",
       "\t<tr><th scope=row>TFPI</th><td>-0.28945759</td><td>-0.28945759</td><td> 1.79777746</td><td>-0.28945759</td><td>-0.28945759</td><td>-0.28945759</td><td>-0.28945759</td><td>-0.28945759</td><td>-0.28945759</td><td>-0.28945759</td><td>⋯</td><td>-0.28945759</td><td>-0.28945759</td><td>-0.28945759</td><td>-0.28945759</td><td>-0.28945759</td><td>-0.28945759</td><td> 0.44511547</td><td>-0.28945759</td><td>-0.28945759</td><td>-0.28945759</td></tr>\n",
       "\t<tr><th scope=row>RBM5</th><td>-0.34809229</td><td>-0.34809229</td><td> 0.03439037</td><td>-0.34809229</td><td>-0.34809229</td><td>-0.34809229</td><td> 5.23763354</td><td>-0.34809229</td><td>-0.34809229</td><td>-0.34809229</td><td>⋯</td><td>-0.34809229</td><td>-0.34809229</td><td>-0.34809229</td><td>-0.21096557</td><td>-0.34809229</td><td>-0.34809229</td><td>-0.34809229</td><td>-0.34809229</td><td> 1.20399877</td><td> 1.38436780</td></tr>\n",
       "\t<tr><th scope=row>CD38</th><td>-0.09208936</td><td>-0.09208936</td><td>-0.09208936</td><td>-0.09208936</td><td>-0.09208936</td><td>-0.09208936</td><td>-0.09208936</td><td>-0.09208936</td><td>-0.09208936</td><td>-0.09208936</td><td>⋯</td><td>-0.09208936</td><td>-0.09208936</td><td>-0.09208936</td><td>-0.09208936</td><td>-0.09208936</td><td>-0.09208936</td><td>-0.09208936</td><td>-0.09208936</td><td>-0.09208936</td><td>-0.09208936</td></tr>\n",
       "</tbody>\n",
       "</table>\n"
      ],
      "text/latex": [
       "A matrix: 6 × 7231 of type dbl\n",
       "\\begin{tabular}{r|lllllllllllllllllllll}\n",
       "  & SC\\_92563\\_0\\_17 & SC\\_92563\\_0\\_23 & SC\\_92563\\_0\\_12 & SC\\_92563\\_0\\_18 & SC\\_92563\\_0\\_19 & SC\\_92563\\_0\\_20 & SC\\_92563\\_0\\_14 & SC\\_92563\\_1\\_45 & SC\\_92563\\_1\\_46 & SC\\_92563\\_2\\_64 & ⋯ & SC\\_97502\\_56\\_57 & SC\\_97502\\_56\\_33 & SC\\_97502\\_70\\_62 & SC\\_97502\\_71\\_55 & SC\\_97502\\_24\\_52 & SC\\_97502\\_34\\_40 & SC\\_97502\\_32\\_60 & SC\\_97502\\_66\\_39 & SC\\_97502\\_30\\_13 & SC\\_97502\\_30\\_69\\\\\n",
       "\\hline\n",
       "\tFGR & -0.11106015 & -0.11106015 & -0.11106015 & -0.11106015 & -0.11106015 & -0.11106015 & -0.11106015 & -0.11106015 & -0.11106015 & -0.11106015 & ⋯ & -0.11106015 & -0.11106015 & -0.11106015 & -0.11106015 & -0.11106015 & -0.11106015 & -0.11106015 & -0.11106015 & -0.11106015 & -0.11106015\\\\\n",
       "\tCFH &  4.96971188 & -0.28446614 &  0.87201257 &  7.90064217 & -0.28446614 & -0.28446614 & -0.28446614 & -0.28446614 & -0.28446614 &  1.05326192 & ⋯ & -0.28446614 & -0.28446614 & -0.28446614 & -0.28446614 & -0.28446614 & -0.28446614 & -0.28446614 & -0.28446614 & -0.28446614 & -0.28446614\\\\\n",
       "\tSNX11 & -0.12088841 & -0.12088841 & -0.12088841 & -0.12088841 & -0.12088841 & -0.12088841 & -0.12088841 & -0.12088841 & -0.12088841 & -0.12088841 & ⋯ & -0.12088841 & -0.12088841 & -0.12088841 & -0.12088841 & -0.12088841 &  2.04038057 & -0.12088841 & -0.12088841 & -0.12088841 & -0.12088841\\\\\n",
       "\tTFPI & -0.28945759 & -0.28945759 &  1.79777746 & -0.28945759 & -0.28945759 & -0.28945759 & -0.28945759 & -0.28945759 & -0.28945759 & -0.28945759 & ⋯ & -0.28945759 & -0.28945759 & -0.28945759 & -0.28945759 & -0.28945759 & -0.28945759 &  0.44511547 & -0.28945759 & -0.28945759 & -0.28945759\\\\\n",
       "\tRBM5 & -0.34809229 & -0.34809229 &  0.03439037 & -0.34809229 & -0.34809229 & -0.34809229 &  5.23763354 & -0.34809229 & -0.34809229 & -0.34809229 & ⋯ & -0.34809229 & -0.34809229 & -0.34809229 & -0.21096557 & -0.34809229 & -0.34809229 & -0.34809229 & -0.34809229 &  1.20399877 &  1.38436780\\\\\n",
       "\tCD38 & -0.09208936 & -0.09208936 & -0.09208936 & -0.09208936 & -0.09208936 & -0.09208936 & -0.09208936 & -0.09208936 & -0.09208936 & -0.09208936 & ⋯ & -0.09208936 & -0.09208936 & -0.09208936 & -0.09208936 & -0.09208936 & -0.09208936 & -0.09208936 & -0.09208936 & -0.09208936 & -0.09208936\\\\\n",
       "\\end{tabular}\n"
      ],
      "text/markdown": [
       "\n",
       "A matrix: 6 × 7231 of type dbl\n",
       "\n",
       "| <!--/--> | SC_92563_0_17 | SC_92563_0_23 | SC_92563_0_12 | SC_92563_0_18 | SC_92563_0_19 | SC_92563_0_20 | SC_92563_0_14 | SC_92563_1_45 | SC_92563_1_46 | SC_92563_2_64 | ⋯ | SC_97502_56_57 | SC_97502_56_33 | SC_97502_70_62 | SC_97502_71_55 | SC_97502_24_52 | SC_97502_34_40 | SC_97502_32_60 | SC_97502_66_39 | SC_97502_30_13 | SC_97502_30_69 |\n",
       "|---|---|---|---|---|---|---|---|---|---|---|---|---|---|---|---|---|---|---|---|---|---|\n",
       "| FGR | -0.11106015 | -0.11106015 | -0.11106015 | -0.11106015 | -0.11106015 | -0.11106015 | -0.11106015 | -0.11106015 | -0.11106015 | -0.11106015 | ⋯ | -0.11106015 | -0.11106015 | -0.11106015 | -0.11106015 | -0.11106015 | -0.11106015 | -0.11106015 | -0.11106015 | -0.11106015 | -0.11106015 |\n",
       "| CFH |  4.96971188 | -0.28446614 |  0.87201257 |  7.90064217 | -0.28446614 | -0.28446614 | -0.28446614 | -0.28446614 | -0.28446614 |  1.05326192 | ⋯ | -0.28446614 | -0.28446614 | -0.28446614 | -0.28446614 | -0.28446614 | -0.28446614 | -0.28446614 | -0.28446614 | -0.28446614 | -0.28446614 |\n",
       "| SNX11 | -0.12088841 | -0.12088841 | -0.12088841 | -0.12088841 | -0.12088841 | -0.12088841 | -0.12088841 | -0.12088841 | -0.12088841 | -0.12088841 | ⋯ | -0.12088841 | -0.12088841 | -0.12088841 | -0.12088841 | -0.12088841 |  2.04038057 | -0.12088841 | -0.12088841 | -0.12088841 | -0.12088841 |\n",
       "| TFPI | -0.28945759 | -0.28945759 |  1.79777746 | -0.28945759 | -0.28945759 | -0.28945759 | -0.28945759 | -0.28945759 | -0.28945759 | -0.28945759 | ⋯ | -0.28945759 | -0.28945759 | -0.28945759 | -0.28945759 | -0.28945759 | -0.28945759 |  0.44511547 | -0.28945759 | -0.28945759 | -0.28945759 |\n",
       "| RBM5 | -0.34809229 | -0.34809229 |  0.03439037 | -0.34809229 | -0.34809229 | -0.34809229 |  5.23763354 | -0.34809229 | -0.34809229 | -0.34809229 | ⋯ | -0.34809229 | -0.34809229 | -0.34809229 | -0.21096557 | -0.34809229 | -0.34809229 | -0.34809229 | -0.34809229 |  1.20399877 |  1.38436780 |\n",
       "| CD38 | -0.09208936 | -0.09208936 | -0.09208936 | -0.09208936 | -0.09208936 | -0.09208936 | -0.09208936 | -0.09208936 | -0.09208936 | -0.09208936 | ⋯ | -0.09208936 | -0.09208936 | -0.09208936 | -0.09208936 | -0.09208936 | -0.09208936 | -0.09208936 | -0.09208936 | -0.09208936 | -0.09208936 |\n",
       "\n"
      ],
      "text/plain": [
       "      SC_92563_0_17 SC_92563_0_23 SC_92563_0_12 SC_92563_0_18 SC_92563_0_19\n",
       "FGR   -0.11106015   -0.11106015   -0.11106015   -0.11106015   -0.11106015  \n",
       "CFH    4.96971188   -0.28446614    0.87201257    7.90064217   -0.28446614  \n",
       "SNX11 -0.12088841   -0.12088841   -0.12088841   -0.12088841   -0.12088841  \n",
       "TFPI  -0.28945759   -0.28945759    1.79777746   -0.28945759   -0.28945759  \n",
       "RBM5  -0.34809229   -0.34809229    0.03439037   -0.34809229   -0.34809229  \n",
       "CD38  -0.09208936   -0.09208936   -0.09208936   -0.09208936   -0.09208936  \n",
       "      SC_92563_0_20 SC_92563_0_14 SC_92563_1_45 SC_92563_1_46 SC_92563_2_64 ⋯\n",
       "FGR   -0.11106015   -0.11106015   -0.11106015   -0.11106015   -0.11106015   ⋯\n",
       "CFH   -0.28446614   -0.28446614   -0.28446614   -0.28446614    1.05326192   ⋯\n",
       "SNX11 -0.12088841   -0.12088841   -0.12088841   -0.12088841   -0.12088841   ⋯\n",
       "TFPI  -0.28945759   -0.28945759   -0.28945759   -0.28945759   -0.28945759   ⋯\n",
       "RBM5  -0.34809229    5.23763354   -0.34809229   -0.34809229   -0.34809229   ⋯\n",
       "CD38  -0.09208936   -0.09208936   -0.09208936   -0.09208936   -0.09208936   ⋯\n",
       "      SC_97502_56_57 SC_97502_56_33 SC_97502_70_62 SC_97502_71_55\n",
       "FGR   -0.11106015    -0.11106015    -0.11106015    -0.11106015   \n",
       "CFH   -0.28446614    -0.28446614    -0.28446614    -0.28446614   \n",
       "SNX11 -0.12088841    -0.12088841    -0.12088841    -0.12088841   \n",
       "TFPI  -0.28945759    -0.28945759    -0.28945759    -0.28945759   \n",
       "RBM5  -0.34809229    -0.34809229    -0.34809229    -0.21096557   \n",
       "CD38  -0.09208936    -0.09208936    -0.09208936    -0.09208936   \n",
       "      SC_97502_24_52 SC_97502_34_40 SC_97502_32_60 SC_97502_66_39\n",
       "FGR   -0.11106015    -0.11106015    -0.11106015    -0.11106015   \n",
       "CFH   -0.28446614    -0.28446614    -0.28446614    -0.28446614   \n",
       "SNX11 -0.12088841     2.04038057    -0.12088841    -0.12088841   \n",
       "TFPI  -0.28945759    -0.28945759     0.44511547    -0.28945759   \n",
       "RBM5  -0.34809229    -0.34809229    -0.34809229    -0.34809229   \n",
       "CD38  -0.09208936    -0.09208936    -0.09208936    -0.09208936   \n",
       "      SC_97502_30_13 SC_97502_30_69\n",
       "FGR   -0.11106015    -0.11106015   \n",
       "CFH   -0.28446614    -0.28446614   \n",
       "SNX11 -0.12088841    -0.12088841   \n",
       "TFPI  -0.28945759    -0.28945759   \n",
       "RBM5   1.20399877     1.38436780   \n",
       "CD38  -0.09208936    -0.09208936   "
      ]
     },
     "metadata": {},
     "output_type": "display_data"
    }
   ],
   "source": [
    "head(exp)"
   ]
  },
  {
   "cell_type": "markdown",
   "metadata": {},
   "source": [
    "# using SCINA"
   ]
  },
  {
   "cell_type": "code",
   "execution_count": 7,
   "metadata": {},
   "outputs": [],
   "source": [
    "# parameters\n",
    "# max_iter: max iterations (integer>0)\n",
    "\n",
    "# covergence_n: (iteger>0)\n",
    "# Stop SCINA if during the last n rounds of iterations, cell type assignment keeps steady above the convergence_rate.\n",
    "\n",
    "# covergence_rate: (A float between 0 and 1. Default is 0.99.)\n",
    "# Percentage of cells for which the type assignment remains stable for the last n rounds.\n",
    "\n",
    "# sensitivity_cutoff: (A float between 0 and 1.)\n",
    "# The cutoff to remove signatures whose cells types are deemed as non-existent at all in the data by SCINA.\n",
    "\n",
    "# rm_overlap A binary value, default 1 (TRUE)\n",
    "# denotes that shared symbols between signature lists will be removed. If 0 (FALSE) then allows different cell types to share the same identifiers.\n",
    "\n",
    "# allow_unknown A binary value, default 1 (TRUE)\n",
    "#  If 0 (FALSE) then no cell will be assigned to the 'unknown' category.\n",
    "\n",
    "# log_file: A name string denoting a record for the SCINA running status, path may be included. Default is 'SCINA.log'.\n",
    "\n",
    "results = SCINA(exp, signatures, max_iter = 100, convergence_n = 10, \n",
    "    convergence_rate = 0.999, sensitivity_cutoff = 0.9, rm_overlap=TRUE, allow_unknown=TRUE, log_file='SCINA.log')"
   ]
  },
  {
   "cell_type": "code",
   "execution_count": 8,
   "metadata": {},
   "outputs": [
    {
     "data": {
      "text/html": [
       "<style>\n",
       ".list-inline {list-style: none; margin:0; padding: 0}\n",
       ".list-inline>li {display: inline-block}\n",
       ".list-inline>li:not(:last-child)::after {content: \"\\00b7\"; padding: 0 .5ex}\n",
       "</style>\n",
       "<ol class=list-inline><li>'unknown'</li><li>'cd14_monocytes'</li><li>'unknown'</li><li>'unknown'</li><li>'unknown'</li><li>'unknown'</li></ol>\n"
      ],
      "text/latex": [
       "\\begin{enumerate*}\n",
       "\\item 'unknown'\n",
       "\\item 'cd14\\_monocytes'\n",
       "\\item 'unknown'\n",
       "\\item 'unknown'\n",
       "\\item 'unknown'\n",
       "\\item 'unknown'\n",
       "\\end{enumerate*}\n"
      ],
      "text/markdown": [
       "1. 'unknown'\n",
       "2. 'cd14_monocytes'\n",
       "3. 'unknown'\n",
       "4. 'unknown'\n",
       "5. 'unknown'\n",
       "6. 'unknown'\n",
       "\n",
       "\n"
      ],
      "text/plain": [
       "[1] \"unknown\"        \"cd14_monocytes\" \"unknown\"        \"unknown\"       \n",
       "[5] \"unknown\"        \"unknown\"       "
      ]
     },
     "metadata": {},
     "output_type": "display_data"
    }
   ],
   "source": [
    "head(results$cell_labels)"
   ]
  },
  {
   "cell_type": "code",
   "execution_count": 9,
   "metadata": {},
   "outputs": [
    {
     "data": {
      "text/html": [
       "<table>\n",
       "<caption>A matrix: 3 × 7231 of type dbl</caption>\n",
       "<thead>\n",
       "\t<tr><th></th><th scope=col>SC_92563_0_17</th><th scope=col>SC_92563_0_23</th><th scope=col>SC_92563_0_12</th><th scope=col>SC_92563_0_18</th><th scope=col>SC_92563_0_19</th><th scope=col>SC_92563_0_20</th><th scope=col>SC_92563_0_14</th><th scope=col>SC_92563_1_45</th><th scope=col>SC_92563_1_46</th><th scope=col>SC_92563_2_64</th><th scope=col>⋯</th><th scope=col>SC_97502_56_57</th><th scope=col>SC_97502_56_33</th><th scope=col>SC_97502_70_62</th><th scope=col>SC_97502_71_55</th><th scope=col>SC_97502_24_52</th><th scope=col>SC_97502_34_40</th><th scope=col>SC_97502_32_60</th><th scope=col>SC_97502_66_39</th><th scope=col>SC_97502_30_13</th><th scope=col>SC_97502_30_69</th></tr>\n",
       "</thead>\n",
       "<tbody>\n",
       "\t<tr><th scope=row>cd14_monocytes</th><td>2.811101e-80</td><td> 1.000000e+00</td><td>1.060899e-80</td><td>2.089183e-80</td><td>2.650614e-80</td><td>2.496487e-81</td><td>2.845697e-71</td><td>1.445974e-86</td><td>6.725161e-119</td><td>5.051021e-82</td><td>⋯</td><td>2.117236e-82</td><td>8.410902e-82</td><td>4.934286e-81</td><td>9.684958e-82</td><td>4.690013e-81</td><td>1.422850e-81</td><td>8.283385e-78</td><td>1.206858e-81</td><td>2.523453e-81</td><td>1.514548e-81</td></tr>\n",
       "\t<tr><th scope=row>b_cells</th><td>1.498798e-12</td><td>3.345653e-176</td><td>1.246688e-11</td><td>4.958829e-13</td><td>1.776962e-11</td><td>3.031437e-14</td><td>2.600142e-11</td><td>2.621568e-25</td><td> 7.534063e-37</td><td>4.401195e-12</td><td>⋯</td><td>3.031437e-14</td><td>5.310060e-12</td><td>4.794494e-14</td><td>3.031437e-14</td><td>2.620238e-13</td><td>3.354446e-13</td><td>8.732616e-14</td><td>3.525154e-14</td><td>3.031437e-14</td><td>3.031437e-14</td></tr>\n",
       "\t<tr><th scope=row>cd56_nk</th><td>1.303675e-19</td><td>1.438805e-181</td><td>1.303675e-19</td><td>1.303675e-19</td><td>1.303675e-19</td><td>1.303675e-19</td><td>4.626065e-15</td><td>1.000000e+00</td><td> 1.000000e+00</td><td>1.303675e-19</td><td>⋯</td><td>1.303675e-19</td><td>1.364210e-19</td><td>1.303675e-19</td><td>1.303675e-19</td><td>1.303675e-19</td><td>1.303675e-19</td><td>1.303675e-19</td><td>1.303675e-19</td><td>1.303675e-19</td><td>1.303675e-19</td></tr>\n",
       "</tbody>\n",
       "</table>\n"
      ],
      "text/latex": [
       "A matrix: 3 × 7231 of type dbl\n",
       "\\begin{tabular}{r|lllllllllllllllllllll}\n",
       "  & SC\\_92563\\_0\\_17 & SC\\_92563\\_0\\_23 & SC\\_92563\\_0\\_12 & SC\\_92563\\_0\\_18 & SC\\_92563\\_0\\_19 & SC\\_92563\\_0\\_20 & SC\\_92563\\_0\\_14 & SC\\_92563\\_1\\_45 & SC\\_92563\\_1\\_46 & SC\\_92563\\_2\\_64 & ⋯ & SC\\_97502\\_56\\_57 & SC\\_97502\\_56\\_33 & SC\\_97502\\_70\\_62 & SC\\_97502\\_71\\_55 & SC\\_97502\\_24\\_52 & SC\\_97502\\_34\\_40 & SC\\_97502\\_32\\_60 & SC\\_97502\\_66\\_39 & SC\\_97502\\_30\\_13 & SC\\_97502\\_30\\_69\\\\\n",
       "\\hline\n",
       "\tcd14\\_monocytes & 2.811101e-80 &  1.000000e+00 & 1.060899e-80 & 2.089183e-80 & 2.650614e-80 & 2.496487e-81 & 2.845697e-71 & 1.445974e-86 & 6.725161e-119 & 5.051021e-82 & ⋯ & 2.117236e-82 & 8.410902e-82 & 4.934286e-81 & 9.684958e-82 & 4.690013e-81 & 1.422850e-81 & 8.283385e-78 & 1.206858e-81 & 2.523453e-81 & 1.514548e-81\\\\\n",
       "\tb\\_cells & 1.498798e-12 & 3.345653e-176 & 1.246688e-11 & 4.958829e-13 & 1.776962e-11 & 3.031437e-14 & 2.600142e-11 & 2.621568e-25 &  7.534063e-37 & 4.401195e-12 & ⋯ & 3.031437e-14 & 5.310060e-12 & 4.794494e-14 & 3.031437e-14 & 2.620238e-13 & 3.354446e-13 & 8.732616e-14 & 3.525154e-14 & 3.031437e-14 & 3.031437e-14\\\\\n",
       "\tcd56\\_nk & 1.303675e-19 & 1.438805e-181 & 1.303675e-19 & 1.303675e-19 & 1.303675e-19 & 1.303675e-19 & 4.626065e-15 & 1.000000e+00 &  1.000000e+00 & 1.303675e-19 & ⋯ & 1.303675e-19 & 1.364210e-19 & 1.303675e-19 & 1.303675e-19 & 1.303675e-19 & 1.303675e-19 & 1.303675e-19 & 1.303675e-19 & 1.303675e-19 & 1.303675e-19\\\\\n",
       "\\end{tabular}\n"
      ],
      "text/markdown": [
       "\n",
       "A matrix: 3 × 7231 of type dbl\n",
       "\n",
       "| <!--/--> | SC_92563_0_17 | SC_92563_0_23 | SC_92563_0_12 | SC_92563_0_18 | SC_92563_0_19 | SC_92563_0_20 | SC_92563_0_14 | SC_92563_1_45 | SC_92563_1_46 | SC_92563_2_64 | ⋯ | SC_97502_56_57 | SC_97502_56_33 | SC_97502_70_62 | SC_97502_71_55 | SC_97502_24_52 | SC_97502_34_40 | SC_97502_32_60 | SC_97502_66_39 | SC_97502_30_13 | SC_97502_30_69 |\n",
       "|---|---|---|---|---|---|---|---|---|---|---|---|---|---|---|---|---|---|---|---|---|---|\n",
       "| cd14_monocytes | 2.811101e-80 |  1.000000e+00 | 1.060899e-80 | 2.089183e-80 | 2.650614e-80 | 2.496487e-81 | 2.845697e-71 | 1.445974e-86 | 6.725161e-119 | 5.051021e-82 | ⋯ | 2.117236e-82 | 8.410902e-82 | 4.934286e-81 | 9.684958e-82 | 4.690013e-81 | 1.422850e-81 | 8.283385e-78 | 1.206858e-81 | 2.523453e-81 | 1.514548e-81 |\n",
       "| b_cells | 1.498798e-12 | 3.345653e-176 | 1.246688e-11 | 4.958829e-13 | 1.776962e-11 | 3.031437e-14 | 2.600142e-11 | 2.621568e-25 |  7.534063e-37 | 4.401195e-12 | ⋯ | 3.031437e-14 | 5.310060e-12 | 4.794494e-14 | 3.031437e-14 | 2.620238e-13 | 3.354446e-13 | 8.732616e-14 | 3.525154e-14 | 3.031437e-14 | 3.031437e-14 |\n",
       "| cd56_nk | 1.303675e-19 | 1.438805e-181 | 1.303675e-19 | 1.303675e-19 | 1.303675e-19 | 1.303675e-19 | 4.626065e-15 | 1.000000e+00 |  1.000000e+00 | 1.303675e-19 | ⋯ | 1.303675e-19 | 1.364210e-19 | 1.303675e-19 | 1.303675e-19 | 1.303675e-19 | 1.303675e-19 | 1.303675e-19 | 1.303675e-19 | 1.303675e-19 | 1.303675e-19 |\n",
       "\n"
      ],
      "text/plain": [
       "               SC_92563_0_17 SC_92563_0_23 SC_92563_0_12 SC_92563_0_18\n",
       "cd14_monocytes 2.811101e-80   1.000000e+00 1.060899e-80  2.089183e-80 \n",
       "b_cells        1.498798e-12  3.345653e-176 1.246688e-11  4.958829e-13 \n",
       "cd56_nk        1.303675e-19  1.438805e-181 1.303675e-19  1.303675e-19 \n",
       "               SC_92563_0_19 SC_92563_0_20 SC_92563_0_14 SC_92563_1_45\n",
       "cd14_monocytes 2.650614e-80  2.496487e-81  2.845697e-71  1.445974e-86 \n",
       "b_cells        1.776962e-11  3.031437e-14  2.600142e-11  2.621568e-25 \n",
       "cd56_nk        1.303675e-19  1.303675e-19  4.626065e-15  1.000000e+00 \n",
       "               SC_92563_1_46 SC_92563_2_64 ⋯ SC_97502_56_57 SC_97502_56_33\n",
       "cd14_monocytes 6.725161e-119 5.051021e-82  ⋯ 2.117236e-82   8.410902e-82  \n",
       "b_cells         7.534063e-37 4.401195e-12  ⋯ 3.031437e-14   5.310060e-12  \n",
       "cd56_nk         1.000000e+00 1.303675e-19  ⋯ 1.303675e-19   1.364210e-19  \n",
       "               SC_97502_70_62 SC_97502_71_55 SC_97502_24_52 SC_97502_34_40\n",
       "cd14_monocytes 4.934286e-81   9.684958e-82   4.690013e-81   1.422850e-81  \n",
       "b_cells        4.794494e-14   3.031437e-14   2.620238e-13   3.354446e-13  \n",
       "cd56_nk        1.303675e-19   1.303675e-19   1.303675e-19   1.303675e-19  \n",
       "               SC_97502_32_60 SC_97502_66_39 SC_97502_30_13 SC_97502_30_69\n",
       "cd14_monocytes 8.283385e-78   1.206858e-81   2.523453e-81   1.514548e-81  \n",
       "b_cells        8.732616e-14   3.525154e-14   3.031437e-14   3.031437e-14  \n",
       "cd56_nk        1.303675e-19   1.303675e-19   1.303675e-19   1.303675e-19  "
      ]
     },
     "metadata": {},
     "output_type": "display_data"
    }
   ],
   "source": [
    "head(results$probabilities)"
   ]
  },
  {
   "cell_type": "markdown",
   "metadata": {},
   "source": [
    "# save results"
   ]
  },
  {
   "cell_type": "code",
   "execution_count": 45,
   "metadata": {},
   "outputs": [],
   "source": [
    "# write out the result\n",
    "query_result <- data.frame(results$cell_labels)\n",
    "save_anno_dir <- \"\" # use your dir\n",
    "write.csv(query_result, paste0(save_anno_dir, \"anno.csv\"))"
   ]
  },
  {
   "cell_type": "code",
   "execution_count": 46,
   "metadata": {},
   "outputs": [
    {
     "data": {
      "text/html": [
       "<table>\n",
       "<caption>A data.frame: 6 × 1</caption>\n",
       "<thead>\n",
       "\t<tr><th></th><th scope=col>results.cell_labels</th></tr>\n",
       "\t<tr><th></th><th scope=col>&lt;chr&gt;</th></tr>\n",
       "</thead>\n",
       "<tbody>\n",
       "\t<tr><th scope=row>1</th><td>unknown       </td></tr>\n",
       "\t<tr><th scope=row>2</th><td>cd14_monocytes</td></tr>\n",
       "\t<tr><th scope=row>3</th><td>unknown       </td></tr>\n",
       "\t<tr><th scope=row>4</th><td>unknown       </td></tr>\n",
       "\t<tr><th scope=row>5</th><td>unknown       </td></tr>\n",
       "\t<tr><th scope=row>6</th><td>unknown       </td></tr>\n",
       "</tbody>\n",
       "</table>\n"
      ],
      "text/latex": [
       "A data.frame: 6 × 1\n",
       "\\begin{tabular}{r|l}\n",
       "  & results.cell\\_labels\\\\\n",
       "  & <chr>\\\\\n",
       "\\hline\n",
       "\t1 & unknown       \\\\\n",
       "\t2 & cd14\\_monocytes\\\\\n",
       "\t3 & unknown       \\\\\n",
       "\t4 & unknown       \\\\\n",
       "\t5 & unknown       \\\\\n",
       "\t6 & unknown       \\\\\n",
       "\\end{tabular}\n"
      ],
      "text/markdown": [
       "\n",
       "A data.frame: 6 × 1\n",
       "\n",
       "| <!--/--> | results.cell_labels &lt;chr&gt; |\n",
       "|---|---|\n",
       "| 1 | unknown        |\n",
       "| 2 | cd14_monocytes |\n",
       "| 3 | unknown        |\n",
       "| 4 | unknown        |\n",
       "| 5 | unknown        |\n",
       "| 6 | unknown        |\n",
       "\n"
      ],
      "text/plain": [
       "  results.cell_labels\n",
       "1 unknown            \n",
       "2 cd14_monocytes     \n",
       "3 unknown            \n",
       "4 unknown            \n",
       "5 unknown            \n",
       "6 unknown            "
      ]
     },
     "metadata": {},
     "output_type": "display_data"
    }
   ],
   "source": [
    "head(query_result)"
   ]
  },
  {
   "cell_type": "code",
   "execution_count": null,
   "metadata": {},
   "outputs": [],
   "source": []
  }
 ],
 "metadata": {
  "kernelspec": {
   "display_name": "R",
   "language": "R",
   "name": "ir"
  },
  "language_info": {
   "codemirror_mode": "r",
   "file_extension": ".r",
   "mimetype": "text/x-r-source",
   "name": "R",
   "pygments_lexer": "r",
   "version": "3.6.0"
  }
 },
 "nbformat": 4,
 "nbformat_minor": 2
}
